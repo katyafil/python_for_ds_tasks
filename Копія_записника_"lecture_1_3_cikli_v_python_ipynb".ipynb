{
  "cells": [
    {
      "cell_type": "markdown",
      "metadata": {
        "id": "view-in-github",
        "colab_type": "text"
      },
      "source": [
        "<a href=\"https://colab.research.google.com/github/katyafil/python_for_ds_tasks/blob/main/%D0%9A%D0%BE%D0%BF%D1%96%D1%8F_%D0%B7%D0%B0%D0%BF%D0%B8%D1%81%D0%BD%D0%B8%D0%BA%D0%B0_%22lecture_1_3_cikli_v_python_ipynb%22.ipynb\" target=\"_parent\"><img src=\"https://colab.research.google.com/assets/colab-badge.svg\" alt=\"Open In Colab\"/></a>"
      ]
    },
    {
      "cell_type": "markdown",
      "id": "12641f3f",
      "metadata": {
        "id": "12641f3f"
      },
      "source": [
        "# Цикли та List Comprehension в Python"
      ]
    },
    {
      "cell_type": "markdown",
      "id": "da3746df",
      "metadata": {
        "ExecuteTime": {
          "end_time": "2023-01-31T19:38:30.505208Z",
          "start_time": "2023-01-31T19:38:30.496711Z"
        },
        "id": "da3746df"
      },
      "source": [
        "Іноді в програмах зустрічаються рядки коду, які повторюються кілька разів. Для економії часу у написанні таких програм програмісти вигадали «цикли». Цикли - це можливість зробити програми більш компактними і красивими за рахунок об'єднання рядків коду, що повторюються. Цикли присутні в більшості мов програмування (навіть в низькорівневих!). І часто є кілька типів циклів. У Python їх два:\n",
        "- цикл for\n",
        "- цикл while\n",
        "\n",
        "Цикл for використовується частіше за другий, але важливо знати та розуміти як працюють обидва з них."
      ]
    },
    {
      "cell_type": "markdown",
      "id": "e4615ef0",
      "metadata": {
        "id": "e4615ef0"
      },
      "source": [
        "## Цикл for\n",
        "Уявіть, що у нас є група з пʼяти людей. І ми хочемо вивести на екран імʼя кожного з них. Ми могли б 5 разів зробити"
      ]
    },
    {
      "cell_type": "code",
      "execution_count": null,
      "id": "91047348",
      "metadata": {
        "ExecuteTime": {
          "end_time": "2023-01-31T19:46:13.563274Z",
          "start_time": "2023-01-31T19:46:13.552958Z"
        },
        "id": "91047348"
      },
      "outputs": [],
      "source": [
        "names = ['Monica', 'Ross', 'Chandler', 'Joey', 'Rachel']"
      ]
    },
    {
      "cell_type": "code",
      "execution_count": null,
      "id": "a0a699a8",
      "metadata": {
        "ExecuteTime": {
          "end_time": "2023-01-31T19:47:20.670561Z",
          "start_time": "2023-01-31T19:47:20.663689Z"
        },
        "id": "a0a699a8"
      },
      "outputs": [],
      "source": [
        "print('Monica')\n",
        "print('Ross')\n",
        "print('Chandler')\n",
        "print('Joey')\n",
        "print('Rachel')"
      ]
    },
    {
      "cell_type": "markdown",
      "id": "d469a411",
      "metadata": {
        "id": "d469a411"
      },
      "source": [
        "А тепер уявіть, що нам треба вивести не просто імʼя кожної людини, а ще й написати перед ним \"Hello, {}!\", а після вивести довжину цього імені. Тоді нам треба 5 разів внести ці зміни."
      ]
    },
    {
      "cell_type": "code",
      "execution_count": null,
      "id": "260ad93e",
      "metadata": {
        "ExecuteTime": {
          "end_time": "2023-01-31T19:52:20.633792Z",
          "start_time": "2023-01-31T19:52:20.622628Z"
        },
        "id": "260ad93e"
      },
      "outputs": [],
      "source": [
        "print(f\"Hello, Monica! Your name length is {len('Monica')}.\")\n",
        "print(f\"Hello, Ross! Your name length is {len('Ross')}.\")\n",
        "print(f\"Hello, Chandler! Your name length is {len('Chandler')}.\")\n",
        "print(f\"Hello, Joey! Your name length is {len('Joey')}.\")\n",
        "print(f\"Hello, Rachel! Your name length is {len('Rachel')}.\")"
      ]
    },
    {
      "cell_type": "markdown",
      "id": "80a9a04e",
      "metadata": {
        "id": "80a9a04e"
      },
      "source": [
        "А тепер уявіть, що в нас імен не 5, а 5000 :) Чи було б нам зручно та ефективно вносити зміни в кожному рядку окремо? Певно, ні. Зробимо перше і друге завдання з використанням цикла for. Цикла for називають циклом з параметром або циклом з передумовою. Принцип його дії зображено на картинці."
      ]
    },
    {
      "cell_type": "markdown",
      "id": "19734ce9",
      "metadata": {
        "id": "19734ce9"
      },
      "source": [
        "![image-2.png](attachment:image-2.png)"
      ]
    },
    {
      "cell_type": "markdown",
      "id": "30052382",
      "metadata": {
        "id": "30052382"
      },
      "source": [
        "Синтаксис циклу for:\n",
        "```\n",
        "for значення in послідовність:\n",
        "    тіло циклу for\n",
        "```"
      ]
    },
    {
      "cell_type": "markdown",
      "id": "6302e46b",
      "metadata": {
        "id": "6302e46b"
      },
      "source": [
        "Тіло циклу for завжди відділяється відступом. Наприклад:"
      ]
    },
    {
      "cell_type": "code",
      "execution_count": null,
      "id": "64b0e684",
      "metadata": {
        "ExecuteTime": {
          "end_time": "2023-01-31T20:22:51.125073Z",
          "start_time": "2023-01-31T20:22:51.119373Z"
        },
        "id": "64b0e684"
      },
      "outputs": [],
      "source": [
        "names = ['Monica', 'Ross', 'Chandler', 'Joey', 'Rachel']\n",
        "for current_name in names:\n",
        "    print(current_name)"
      ]
    },
    {
      "cell_type": "markdown",
      "id": "a0d60f85",
      "metadata": {
        "ExecuteTime": {
          "end_time": "2023-01-31T20:23:06.702163Z",
          "start_time": "2023-01-31T20:23:06.648381Z"
        },
        "id": "a0d60f85"
      },
      "source": [
        "Ітерація (iteration) – це одне коло повторення циклу.  \n",
        "`names` у прикладі вище - об'єкт, що ітерується (iterable) - об'єкт, який віддає по одному результату за кожну ітерацію.  \n",
        "`current_name` – ітератор (iterator) – результат кожної ітерації.  "
      ]
    },
    {
      "cell_type": "markdown",
      "id": "a274e7ad",
      "metadata": {
        "id": "a274e7ad"
      },
      "source": [
        "Тепер аби нам оновити те, що хочемо виводити на екран, нам треба лише внести зміну в один рядок тіла циклу:"
      ]
    },
    {
      "cell_type": "code",
      "execution_count": null,
      "id": "c887ec47",
      "metadata": {
        "ExecuteTime": {
          "end_time": "2023-01-31T20:24:32.185720Z",
          "start_time": "2023-01-31T20:24:32.180327Z"
        },
        "id": "c887ec47"
      },
      "outputs": [],
      "source": [
        "names = ['Monica', 'Ross', 'Chandler', 'Joey', 'Rachel']\n",
        "for current_name in names:\n",
        "    print(f\"Hello, {current_name}! Your name length is {len(current_name)}.\")"
      ]
    },
    {
      "cell_type": "markdown",
      "id": "c134bbae",
      "metadata": {
        "id": "c134bbae"
      },
      "source": [
        "Результат ми отримали той самий, що і раніше, але написали значно менше коду, та і до того ж, модифікувати те, що робимо з кожним елементом послідовності - швидше!"
      ]
    },
    {
      "cell_type": "markdown",
      "id": "d2246477",
      "metadata": {
        "ExecuteTime": {
          "end_time": "2023-01-31T20:30:15.332243Z",
          "start_time": "2023-01-31T20:30:15.313700Z"
        },
        "id": "d2246477"
      },
      "source": [
        "### Функція range\n",
        "Функція range() повертає послідовність цілих чисел з урахуванням переданих їй аргументів. Синтаксис функції range():\n",
        "```\n",
        "range(stop)\n",
        "range(start, stop[, step])\n",
        "```\n",
        "\n",
        "Аргумент start – це перше значення в діапазоні. Якщо функція range() викликається лише з одним аргументом, Python вважає, що start = 0.\n",
        "Аргумент stop – це верхня межа діапазону. Важливо розуміти, що саме граничне значення не включається до послідовності.\n",
        "\n",
        "У прикладі нижче у нас є діапазон, що починається зі значення за умовчанням, що дорівнює 0, і включає цілі числа менше 6."
      ]
    },
    {
      "cell_type": "code",
      "execution_count": null,
      "id": "50a67e5e",
      "metadata": {
        "ExecuteTime": {
          "end_time": "2023-01-31T20:35:37.298291Z",
          "start_time": "2023-01-31T20:35:37.285752Z"
        },
        "id": "50a67e5e"
      },
      "outputs": [],
      "source": [
        "for i in range(6):\n",
        "    print(i, end=\"; \")"
      ]
    },
    {
      "cell_type": "code",
      "execution_count": null,
      "id": "a750b4ec",
      "metadata": {
        "ExecuteTime": {
          "end_time": "2023-01-31T20:36:12.047818Z",
          "start_time": "2023-01-31T20:36:12.038399Z"
        },
        "id": "a750b4ec"
      },
      "outputs": [],
      "source": [
        "# передамо два аргументи, при чому перший - відʼємний\n",
        "for i in range(-2, 4):\n",
        "    print(i, end=\"; \")"
      ]
    },
    {
      "cell_type": "code",
      "execution_count": null,
      "id": "dca7bc5b",
      "metadata": {
        "ExecuteTime": {
          "end_time": "2023-01-31T20:36:48.387991Z",
          "start_time": "2023-01-31T20:36:48.384474Z"
        },
        "id": "dca7bc5b"
      },
      "outputs": [],
      "source": [
        "# а так працювати не буде, бо за замовчанням step=1\n",
        "for i in range(-5, -10):\n",
        "    print(i, end=\"; \")"
      ]
    },
    {
      "cell_type": "code",
      "execution_count": null,
      "id": "a91a4dde",
      "metadata": {
        "ExecuteTime": {
          "end_time": "2023-01-31T20:36:57.706553Z",
          "start_time": "2023-01-31T20:36:57.700465Z"
        },
        "id": "a91a4dde"
      },
      "outputs": [],
      "source": [
        "# натомість так буде\n",
        "for i in range(-5, -10, -1):\n",
        "    print(i, end=\"; \")"
      ]
    },
    {
      "cell_type": "code",
      "execution_count": null,
      "id": "dcc64469",
      "metadata": {
        "ExecuteTime": {
          "end_time": "2023-01-31T20:38:19.652604Z",
          "start_time": "2023-01-31T20:38:19.647106Z"
        },
        "id": "dcc64469"
      },
      "outputs": [],
      "source": [
        "for i in range(200, 300, 4):\n",
        "    print(i, end=\"; \")"
      ]
    },
    {
      "cell_type": "markdown",
      "id": "50332911",
      "metadata": {
        "id": "50332911"
      },
      "source": [
        "### Оператори break та continue\n",
        "Ці оператори необхідні для управління циклом.\n",
        "За допомогою оператора break, ми можемо перервати виконання циклу:"
      ]
    },
    {
      "cell_type": "code",
      "execution_count": null,
      "id": "87f9967f",
      "metadata": {
        "ExecuteTime": {
          "end_time": "2023-01-31T20:38:41.849177Z",
          "start_time": "2023-01-31T20:38:41.831286Z"
        },
        "id": "87f9967f"
      },
      "outputs": [],
      "source": [
        "names = ['Monica', 'Ross', 'Chandler', 'Joey', 'Rachel']\n",
        "for current_name in names:\n",
        "    if current_name=='Chandler':\n",
        "        break\n",
        "    print(f\"Hello, {current_name}!\")"
      ]
    },
    {
      "cell_type": "code",
      "execution_count": null,
      "id": "3a45c837",
      "metadata": {
        "ExecuteTime": {
          "end_time": "2023-01-31T20:42:03.182154Z",
          "start_time": "2023-01-31T20:42:03.176760Z"
        },
        "id": "3a45c837"
      },
      "outputs": [],
      "source": [
        "for i in range(20):\n",
        "    if i == 10:\n",
        "        break\n",
        "    print(i, end='; ')"
      ]
    },
    {
      "cell_type": "markdown",
      "id": "afe926f5",
      "metadata": {
        "id": "afe926f5"
      },
      "source": [
        "За допомогою оператора continue, ми можемо перервати виконання поточної ітерації та перейти до наступної:"
      ]
    },
    {
      "cell_type": "code",
      "execution_count": null,
      "id": "920d253a",
      "metadata": {
        "ExecuteTime": {
          "end_time": "2023-01-31T20:44:08.240178Z",
          "start_time": "2023-01-31T20:44:08.230081Z"
        },
        "id": "920d253a"
      },
      "outputs": [],
      "source": [
        "names = ['Monica', 'Ross', 'Chandler', 'Joey', 'Rachel']\n",
        "for current_name in names:\n",
        "    if current_name=='Chandler':\n",
        "        continue\n",
        "    print(f\"Hello, {current_name}!\")"
      ]
    },
    {
      "cell_type": "code",
      "execution_count": null,
      "id": "5c5bc615",
      "metadata": {
        "ExecuteTime": {
          "end_time": "2023-01-31T20:42:11.628253Z",
          "start_time": "2023-01-31T20:42:11.622832Z"
        },
        "id": "5c5bc615"
      },
      "outputs": [],
      "source": [
        "for i in range(20):\n",
        "    if i == 10:\n",
        "        continue\n",
        "    print(i, end='; ')"
      ]
    },
    {
      "cell_type": "markdown",
      "id": "95821992",
      "metadata": {
        "ExecuteTime": {
          "end_time": "2023-01-31T20:40:20.381143Z",
          "start_time": "2023-01-31T20:40:20.356137Z"
        },
        "id": "95821992"
      },
      "source": [
        "### Приклади циклу for"
      ]
    },
    {
      "cell_type": "markdown",
      "id": "4feae9a5",
      "metadata": {
        "id": "4feae9a5"
      },
      "source": [
        "#### Функція enumerate\n",
        "Є зручна функція для проставляння індекса елементу - enumerate. Це доволі часто треба зробити."
      ]
    },
    {
      "cell_type": "code",
      "execution_count": null,
      "id": "d503bced",
      "metadata": {
        "ExecuteTime": {
          "end_time": "2023-01-31T20:46:30.753499Z",
          "start_time": "2023-01-31T20:46:30.748463Z"
        },
        "id": "d503bced"
      },
      "outputs": [],
      "source": [
        "names = ['Monica', 'Ross', 'Chandler', 'Joey', 'Rachel']\n",
        "for i, current_name in enumerate(names):\n",
        "    print(f\"Number: {i}. Name: {current_name}\")"
      ]
    },
    {
      "cell_type": "code",
      "execution_count": null,
      "id": "6a181c0f",
      "metadata": {
        "ExecuteTime": {
          "end_time": "2023-01-31T20:47:20.903628Z",
          "start_time": "2023-01-31T20:47:20.894667Z"
        },
        "id": "6a181c0f"
      },
      "outputs": [],
      "source": [
        "# можемо визначити, з якого числа почати індексацію, за замовченням це 0\n",
        "for i, current_name in enumerate(names, start=1):\n",
        "    print(f\"Number: {i}. Name: {current_name}\")"
      ]
    },
    {
      "cell_type": "markdown",
      "id": "53427005",
      "metadata": {
        "id": "53427005"
      },
      "source": [
        "#### Ітерування по різним структурам даних"
      ]
    },
    {
      "cell_type": "code",
      "execution_count": null,
      "id": "50f37f43",
      "metadata": {
        "ExecuteTime": {
          "end_time": "2023-01-31T20:40:52.431374Z",
          "start_time": "2023-01-31T20:40:52.425800Z"
        },
        "id": "50f37f43"
      },
      "outputs": [],
      "source": [
        "# по рядку\n",
        "for c in 'Ukraine':\n",
        "    print(c)"
      ]
    },
    {
      "cell_type": "code",
      "execution_count": null,
      "id": "de66b4e2",
      "metadata": {
        "ExecuteTime": {
          "end_time": "2023-01-31T20:47:42.589617Z",
          "start_time": "2023-01-31T20:47:42.584973Z"
        },
        "id": "de66b4e2"
      },
      "outputs": [],
      "source": [
        "# по кортежу\n",
        "for fruit in ('яблука', 'груші', 'банани'):\n",
        "    print(fruit)"
      ]
    },
    {
      "cell_type": "code",
      "execution_count": null,
      "id": "0eb885e8",
      "metadata": {
        "ExecuteTime": {
          "end_time": "2023-01-31T20:48:01.283059Z",
          "start_time": "2023-01-31T20:48:01.275667Z"
        },
        "id": "0eb885e8"
      },
      "outputs": [],
      "source": [
        "my_tuple = (1, 2, 3)\n",
        "for item in my_tuple:\n",
        "    print(item * 2)"
      ]
    },
    {
      "cell_type": "markdown",
      "id": "4a1be29c",
      "metadata": {
        "id": "4a1be29c"
      },
      "source": [
        "Ми можемо не тільки виводити результати, а і записувати їх в нову структуру!"
      ]
    },
    {
      "cell_type": "code",
      "execution_count": null,
      "id": "e2fd67cf",
      "metadata": {
        "ExecuteTime": {
          "end_time": "2023-01-31T20:49:26.922364Z",
          "start_time": "2023-01-31T20:49:26.917178Z"
        },
        "id": "e2fd67cf"
      },
      "outputs": [],
      "source": [
        "# а також тут демонструється ітерування по набору, що не відрізняється від ітерування по списку і кортежу\n",
        "my_set = {1, 2, 3}\n",
        "my_set_2 = set()\n",
        "for item in my_set:\n",
        "    my_set_2.add(item ** 2)\n",
        "print(my_set_2)"
      ]
    },
    {
      "cell_type": "markdown",
      "id": "2608e570",
      "metadata": {
        "ExecuteTime": {
          "end_time": "2023-01-31T20:50:18.605123Z",
          "start_time": "2023-01-31T20:50:18.602777Z"
        },
        "id": "2608e570"
      },
      "source": [
        "##### По словнику\n",
        "Т.я. словник - це не послідовність, а набір елементів з доступом за ключем, то тут буде трохи складніше.  \n",
        "Для того, аби перебрати словник у циклі, можна скористатися методом словників `dict.items()`, який повертає послідовність елементів:"
      ]
    },
    {
      "cell_type": "code",
      "execution_count": null,
      "id": "6f300ba9",
      "metadata": {
        "ExecuteTime": {
          "end_time": "2023-01-31T20:51:17.151933Z",
          "start_time": "2023-01-31T20:51:17.142205Z"
        },
        "id": "6f300ba9"
      },
      "outputs": [],
      "source": [
        "my_dict = {'key1': 'value1', 'key2': 'value2', 'key3': 'value3'}\n",
        "for key, value in my_dict.items():\n",
        "    print(key, value)"
      ]
    },
    {
      "cell_type": "markdown",
      "id": "bcff701c",
      "metadata": {
        "ExecuteTime": {
          "end_time": "2023-01-31T19:44:56.613862Z",
          "start_time": "2023-01-31T19:44:56.600914Z"
        },
        "id": "bcff701c"
      },
      "source": [
        "## List Comprehension = цикл for в один рядок\n",
        "List Comprehension пропонує коротший синтаксис, коли ви хочете створити новий список на основі значень існуючого списку. Тобто в деяких випадках List Comprehension може використовуватись як більш компактна заміна циклу, при чому цей варіант написання коду є дуже \"пітонічним\". Синтаксис:   \n",
        "`[вираз for елемент in послідовність if умова]`\n",
        "\n",
        "Умова if вказується опціонально.\n",
        "\n",
        "Для прикладу, перетворимо рядок на список, що складається з елементів рядка, за допомогою циклу for із записом в один рядок:"
      ]
    },
    {
      "cell_type": "code",
      "execution_count": null,
      "id": "feb38059",
      "metadata": {
        "ExecuteTime": {
          "end_time": "2023-01-31T20:53:41.698884Z",
          "start_time": "2023-01-31T20:53:41.630490Z"
        },
        "id": "feb38059"
      },
      "outputs": [],
      "source": [
        "my_str = 'Data Analysis'\n",
        "my_list = [char for char in my_str]\n",
        "my_list"
      ]
    },
    {
      "cell_type": "code",
      "execution_count": null,
      "id": "d5234043",
      "metadata": {
        "ExecuteTime": {
          "end_time": "2023-01-31T20:54:02.387002Z",
          "start_time": "2023-01-31T20:54:02.381137Z"
        },
        "id": "d5234043"
      },
      "outputs": [],
      "source": [
        "# але насправді те саме можна було б зробити трохи простіше\n",
        "list(my_str)"
      ]
    },
    {
      "cell_type": "markdown",
      "id": "d1621e2f",
      "metadata": {
        "id": "d1621e2f"
      },
      "source": [
        "Припустимо, ми хочемо пронуменувати кожен символ в рядку і записати результат в словник - це вже буде у нас dict comprehension, який працює аналогічно:"
      ]
    },
    {
      "cell_type": "code",
      "execution_count": null,
      "id": "c08a5a9b",
      "metadata": {
        "ExecuteTime": {
          "end_time": "2023-01-31T20:55:46.803109Z",
          "start_time": "2023-01-31T20:55:46.793490Z"
        },
        "id": "c08a5a9b"
      },
      "outputs": [],
      "source": [
        "my_str = 'Data Analysis'\n",
        "my_dict = {i: char for i, char in enumerate(my_str)}\n",
        "my_dict"
      ]
    },
    {
      "cell_type": "markdown",
      "id": "50f3634b",
      "metadata": {
        "id": "50f3634b"
      },
      "source": [
        "А якщо ми трошечки змінемо синтаксис, в нас вийде set comprehension і інший результат:"
      ]
    },
    {
      "cell_type": "code",
      "execution_count": null,
      "id": "bc550eff",
      "metadata": {
        "ExecuteTime": {
          "end_time": "2023-01-31T20:57:18.015340Z",
          "start_time": "2023-01-31T20:57:18.009326Z"
        },
        "id": "bc550eff"
      },
      "outputs": [],
      "source": [
        "my_str = 'Data Analysis'\n",
        "my_set = {(i, char) for i, char in enumerate(my_str)}\n",
        "my_set"
      ]
    },
    {
      "cell_type": "code",
      "execution_count": null,
      "id": "aef7e362",
      "metadata": {
        "ExecuteTime": {
          "end_time": "2023-01-31T20:58:43.532346Z",
          "start_time": "2023-01-31T20:58:43.517496Z"
        },
        "id": "aef7e362"
      },
      "outputs": [],
      "source": [
        "# набір такого не вміє\n",
        "my_set[10]"
      ]
    },
    {
      "cell_type": "code",
      "execution_count": null,
      "id": "ce2158fb",
      "metadata": {
        "ExecuteTime": {
          "end_time": "2023-01-31T20:58:29.073359Z",
          "start_time": "2023-01-31T20:58:29.067828Z"
        },
        "id": "ce2158fb"
      },
      "outputs": [],
      "source": [
        "# можемо зробити тільки щось таке\n",
        "(0, 'D') in my_set"
      ]
    },
    {
      "cell_type": "markdown",
      "id": "5a9e8c50",
      "metadata": {
        "ExecuteTime": {
          "end_time": "2023-01-31T21:01:36.264648Z",
          "start_time": "2023-01-31T21:01:36.256712Z"
        },
        "id": "5a9e8c50"
      },
      "source": [
        "А от tuple comprehension не існує, бо tuple - незмінна структура. Якщо ми напишемо круглі дужки - то отримаємо генератор - структуру, по якій можна пройтись лише один раз. Це зручно для оптимізації памʼяті, але це трошки просунута тема, але якщо вам цікаво, можна почитати наприклад [тут](https://realpython.com/introduction-to-python-generators/)."
      ]
    },
    {
      "cell_type": "code",
      "execution_count": null,
      "id": "b9b373c2",
      "metadata": {
        "ExecuteTime": {
          "end_time": "2023-01-31T21:02:33.772823Z",
          "start_time": "2023-01-31T21:02:33.769492Z"
        },
        "id": "b9b373c2"
      },
      "outputs": [],
      "source": [
        "my_str = 'Data Analysis'\n",
        "my_gen = ((i, char) for i, char in enumerate(my_str))"
      ]
    },
    {
      "cell_type": "code",
      "execution_count": null,
      "id": "eb4aae69",
      "metadata": {
        "ExecuteTime": {
          "end_time": "2023-01-31T21:02:34.386245Z",
          "start_time": "2023-01-31T21:02:34.380707Z"
        },
        "id": "eb4aae69"
      },
      "outputs": [],
      "source": [
        "my_gen"
      ]
    },
    {
      "cell_type": "code",
      "execution_count": null,
      "id": "98d46c23",
      "metadata": {
        "ExecuteTime": {
          "end_time": "2023-01-31T21:02:34.688048Z",
          "start_time": "2023-01-31T21:02:34.684101Z"
        },
        "id": "98d46c23"
      },
      "outputs": [],
      "source": [
        "for i in my_gen:\n",
        "    print(i)"
      ]
    },
    {
      "cell_type": "code",
      "execution_count": null,
      "id": "bd643c7b",
      "metadata": {
        "ExecuteTime": {
          "end_time": "2023-01-31T21:03:04.745269Z",
          "start_time": "2023-01-31T21:03:04.742653Z"
        },
        "id": "bd643c7b"
      },
      "outputs": [],
      "source": [
        "# нічого не виводиться, бо генератор пустий\n",
        "for i in my_gen:\n",
        "    print(i)"
      ]
    },
    {
      "cell_type": "markdown",
      "id": "98f061bc",
      "metadata": {
        "ExecuteTime": {
          "end_time": "2023-01-31T21:03:21.502554Z",
          "start_time": "2023-01-31T21:03:21.500044Z"
        },
        "id": "98f061bc"
      },
      "source": [
        "## While\n",
        "While - цикл з постумовою. Синтаксис:\n",
        "```\n",
        "while умова:\n",
        "    тіло циклу\n",
        "```\n",
        "Розглянемо приклад:"
      ]
    },
    {
      "cell_type": "code",
      "execution_count": null,
      "id": "76c977a7",
      "metadata": {
        "ExecuteTime": {
          "end_time": "2023-01-31T21:30:49.820504Z",
          "start_time": "2023-01-31T21:30:49.797473Z"
        },
        "id": "76c977a7"
      },
      "outputs": [],
      "source": [
        "i = 1\n",
        "while i < 5:\n",
        "    print(i)\n",
        "    i += 1"
      ]
    },
    {
      "cell_type": "markdown",
      "id": "43c7bec3",
      "metadata": {
        "ExecuteTime": {
          "end_time": "2023-01-31T21:32:56.462085Z",
          "start_time": "2023-01-31T21:32:56.437299Z"
        },
        "id": "43c7bec3"
      },
      "source": [
        "`i = 1` - змінна, яка є лічильником для циклу while.  \n",
        "Далі йде позначення циклу – while та умова виконання циклу – `i < 5`.  \n",
        "Т.я. `i = 1`, то умова правильна `1 < 5` (True) і цикл починає виконуватися.  \n",
        "Виводиться значення змінної `i` (`1`), далі значення змінної `i` збільшується на 1 цикл повторюється спочатку.  \n",
        "\n",
        "Тепер `i = 2` т.я. ми збільшили її на 1 в останній інструкції циклу.  \n",
        "Перевіряється умова `2 < 5`, умова правильна (True) і цикл продовжується.  \n",
        "Друкується значення змінної `i` (`2`), далі значень змінної `i` знову збільшується на 1 і тепер `i = 3`.  \n",
        "\n",
        "Знову відбувається перевірка умови циклу і так по колу.  \n",
        "\n",
        "Після того, як умова не виконується, цикл зупиняється.  "
      ]
    },
    {
      "cell_type": "code",
      "execution_count": null,
      "id": "c938c42c",
      "metadata": {
        "ExecuteTime": {
          "end_time": "2023-01-31T21:34:04.020439Z",
          "start_time": "2023-01-31T21:34:04.012168Z"
        },
        "id": "c938c42c"
      },
      "outputs": [],
      "source": [
        "i = 1\n",
        "while i < 5:\n",
        "    print(f'Умова виконується i = {i}, {i} < 5')\n",
        "    i += 1"
      ]
    },
    {
      "cell_type": "markdown",
      "id": "c0f7d1d3",
      "metadata": {
        "ExecuteTime": {
          "end_time": "2023-01-31T21:35:23.157153Z",
          "start_time": "2023-01-31T21:35:23.136724Z"
        },
        "id": "c0f7d1d3"
      },
      "source": [
        "### Нескінченний цикл while\n",
        "У минулому прикладі у нас була змінна `i`, яка була лічильником циклу та збільшувала своє значення внаслідок кожної ітерації циклу.  \n",
        "Завдяки цій умові цикл зупинився, т.я. умова перестала виконуватися.  \n",
        "\n",
        "Якщо такої змінної не буде, або умова буде некоректною, цикл може стати нескінченним. Тобто буде виконуватися нескінченну кількість разів (будьте готові, що може все зависнути):"
      ]
    },
    {
      "cell_type": "code",
      "execution_count": null,
      "id": "68500606",
      "metadata": {
        "ExecuteTime": {
          "start_time": "2023-01-31T21:35:39.185Z"
        },
        "scrolled": true,
        "id": "68500606"
      },
      "outputs": [],
      "source": [
        "i = 1\n",
        "while i >= 1:\n",
        "    print(i)\n",
        "    i += 1"
      ]
    },
    {
      "cell_type": "code",
      "execution_count": null,
      "id": "e3dbb742",
      "metadata": {
        "id": "e3dbb742"
      },
      "outputs": [],
      "source": [
        "i = 1\n",
        "while True:\n",
        "    print(i)\n",
        "    i += 1"
      ]
    },
    {
      "cell_type": "markdown",
      "id": "e0283c39",
      "metadata": {
        "id": "e0283c39"
      },
      "source": [
        "У цих прикладах умова завжди істинна, і тому цикл стає нескінченним.\n",
        "\n",
        "Але нескінченні цикли також бувають корисними, наприклад, коли ми заздалегідь не знаємо, скільки разів потрібно виконати цикл, але важливо, щоб цикл був контрольованим.\n",
        "Тобто, щоб ми могли зробити в потрібний момент дати помилкову умову False і зупинити цикл:"
      ]
    },
    {
      "cell_type": "code",
      "execution_count": null,
      "id": "c5eeda54",
      "metadata": {
        "ExecuteTime": {
          "end_time": "2023-01-31T21:39:30.285100Z",
          "start_time": "2023-01-31T21:39:30.281328Z"
        },
        "id": "c5eeda54"
      },
      "outputs": [],
      "source": [
        "condition = True\n",
        "i = 1\n",
        "while condition:\n",
        "    print(i)\n",
        "    i += 1\n",
        "    if i > 10:\n",
        "        condition = False"
      ]
    },
    {
      "cell_type": "markdown",
      "id": "3aa7df80",
      "metadata": {
        "ExecuteTime": {
          "end_time": "2023-01-31T21:40:50.811620Z",
          "start_time": "2023-01-31T21:40:50.802394Z"
        },
        "id": "3aa7df80"
      },
      "source": [
        "### Управління циклом з break та continue\n",
        "Оператори break та continue працюють в циклі while аналогічно до того, як в циклі for. Розглянемо візуалізацію їх роботи та приклади:"
      ]
    },
    {
      "cell_type": "markdown",
      "id": "ddaa0019",
      "metadata": {
        "id": "ddaa0019"
      },
      "source": [
        "![image.png](attachment:image.png)"
      ]
    },
    {
      "cell_type": "code",
      "execution_count": null,
      "id": "89347a22",
      "metadata": {
        "id": "89347a22"
      },
      "outputs": [],
      "source": [
        "# приклад break\n",
        "i = 1\n",
        "while True:     # умова завжди правдива\n",
        "    if i == 5:  # якщо i рівне 5 , то викликаємо оператор break\n",
        "        break   # оператор break перериває виконання циклу\n",
        "    print(i)\n",
        "    i += 1"
      ]
    },
    {
      "cell_type": "code",
      "execution_count": null,
      "id": "7aa990db",
      "metadata": {
        "ExecuteTime": {
          "end_time": "2023-01-31T21:44:02.966022Z",
          "start_time": "2023-01-31T21:44:02.959460Z"
        },
        "id": "7aa990db"
      },
      "outputs": [],
      "source": [
        "# приклад continue\n",
        "i = 1\n",
        "while i <= 10:\n",
        "    if i % 2 != 0:\n",
        "        i += 1\n",
        "        continue\n",
        "    print(i)\n",
        "    i += 1"
      ]
    },
    {
      "cell_type": "markdown",
      "id": "7e4b7158",
      "metadata": {
        "ExecuteTime": {
          "end_time": "2023-01-31T21:44:52.654666Z",
          "start_time": "2023-01-31T21:44:52.650206Z"
        },
        "id": "7e4b7158"
      },
      "source": [
        "### Вкладені цикли while"
      ]
    },
    {
      "cell_type": "markdown",
      "id": "6c411752",
      "metadata": {
        "id": "6c411752"
      },
      "source": [
        "Цикли можна розмішувати один в одному, це стосується як цикла while, так і for. Наприклад, виведемо табличку множення."
      ]
    },
    {
      "cell_type": "code",
      "execution_count": null,
      "id": "a9863136",
      "metadata": {
        "ExecuteTime": {
          "end_time": "2023-01-31T21:48:10.364219Z",
          "start_time": "2023-01-31T21:48:10.356745Z"
        },
        "id": "a9863136"
      },
      "outputs": [],
      "source": [
        "a = 1\n",
        "while a <= 9:\n",
        "    b = 1\n",
        "    while b <= 9:\n",
        "        print(a * b, end=\"\\t\")\n",
        "        b += 1\n",
        "    a += 1\n",
        "    print(\"\")"
      ]
    },
    {
      "cell_type": "markdown",
      "id": "aeb1e059",
      "metadata": {
        "id": "aeb1e059"
      },
      "source": [
        "Те саме можна вивести з допомогою цикла for:"
      ]
    },
    {
      "cell_type": "code",
      "execution_count": null,
      "id": "cbecb4ba",
      "metadata": {
        "ExecuteTime": {
          "end_time": "2023-01-31T21:48:36.547727Z",
          "start_time": "2023-01-31T21:48:36.544063Z"
        },
        "id": "cbecb4ba"
      },
      "outputs": [],
      "source": [
        "max_value = 9\n",
        "\n",
        "for a in range(1, max_value + 1):\n",
        "    for b in range(1, max_value + 1):\n",
        "        print(a * b, end=\"\\t\")\n",
        "    print(\"\")"
      ]
    },
    {
      "cell_type": "markdown",
      "id": "7a8ac388",
      "metadata": {
        "ExecuteTime": {
          "end_time": "2023-01-31T20:33:19.192651Z",
          "start_time": "2023-01-31T20:33:19.178905Z"
        },
        "id": "7a8ac388"
      },
      "source": [
        "# На завершення\n",
        "Найбільш повну та актуальну інформацію щодо синтаксису Python найкраще шукати в документації. Тут ви знайдете статтю про управління потоком даних, що і дозволяють робити цикли - https://docs.python.org/3/tutorial/controlflow.html . В документації ви знайдете все, про що йшлось у даній лекції і навіть більше. Рекомендую ознайомитись з наведеною частиною документації."
      ]
    }
  ],
  "metadata": {
    "kernelspec": {
      "display_name": "Python 3 (ipykernel)",
      "language": "python",
      "name": "python3"
    },
    "language_info": {
      "codemirror_mode": {
        "name": "ipython",
        "version": 3
      },
      "file_extension": ".py",
      "mimetype": "text/x-python",
      "name": "python",
      "nbconvert_exporter": "python",
      "pygments_lexer": "ipython3",
      "version": "3.10.4"
    },
    "toc": {
      "base_numbering": 1,
      "nav_menu": {},
      "number_sections": true,
      "sideBar": true,
      "skip_h1_title": false,
      "title_cell": "Table of Contents",
      "title_sidebar": "Contents",
      "toc_cell": false,
      "toc_position": {},
      "toc_section_display": true,
      "toc_window_display": false
    },
    "colab": {
      "provenance": [],
      "include_colab_link": true
    }
  },
  "nbformat": 4,
  "nbformat_minor": 5
}